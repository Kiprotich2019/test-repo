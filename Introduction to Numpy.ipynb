{
 "cells": [
  {
   "cell_type": "markdown",
   "id": "608c2f95",
   "metadata": {},
   "source": [
    "### Indroducing arrays"
   ]
  },
  {
   "cell_type": "code",
   "execution_count": 1,
   "id": "176790c9",
   "metadata": {},
   "outputs": [
    {
     "data": {
      "image/png": "[encoded data removed]",
      "text/plain": [
       "<Figure size 432x288 with 1 Axes>"
      ]
     },
     "metadata": {
      "needs_background": "light"
     },
     "output_type": "display_data"
    },
    {
     "data": {
      "text/plain": [
       "numpy.ndarray"
      ]
     },
     "execution_count": 1,
     "metadata": {},
     "output_type": "execute_result"
    }
   ],
   "source": [
    "import numpy as np\n",
    "import matplotlib.pyplot as plt\n",
    "sudoku_list=[[0, 0, 4, 3, 0, 0, 2, 0, 9],\n",
    " [0, 0, 5, 0, 0, 9, 0, 0, 1],\n",
    " [0, 7, 0, 0, 6, 0, 0, 4, 3],\n",
    " [0, 0, 6, 0, 0, 2, 0, 8, 7],\n",
    " [1, 9, 0, 0, 0, 7, 4, 0, 0],\n",
    " [0, 5, 0, 0, 8, 3, 0, 0, 0],\n",
    " [6, 0, 0, 0, 0, 0, 1, 0, 5],\n",
    " [0, 0, 3, 5, 0, 8, 6, 9, 0],\n",
    " [0, 4, 2, 9, 1, 0, 3, 0, 0]]\n",
    "sudoku_array=np.array(sudoku_list)\n",
    "type(sudoku_array)\n",
    "zero_array=np.zeros((2,4))\n",
    "random_array=np.random.random((3,6))\n",
    "one_to_ten=np.arange(1,11)\n",
    "doubling_array = [1, 2, 4, 8, 16, 32, 64, 128, 256, 512]\n",
    "plt.scatter(x=one_to_ten,y=doubling_array)\n",
    "plt.show()\n",
    "lis=[[8, 6, 4, 3, 7, 1, 2, 5, 9],\n",
    "       [3, 2, 5, 8, 4, 9, 7, 6, 1],\n",
    "       [9, 7, 1, 2, 6, 5, 8, 4, 3],\n",
    "       [4, 3, 6, 1, 9, 2, 5, 8, 7],\n",
    "       [1, 9, 8, 6, 5, 7, 4, 3, 2],\n",
    "       [2, 5, 7, 4, 8, 3, 9, 1, 6],\n",
    "       [6, 8, 9, 7, 3, 4, 1, 2, 5],\n",
    "       [7, 1, 3, 5, 2, 8, 6, 9, 4],\n",
    "       [5, 4, 2, 9, 1, 6, 3, 7, 8]]\n",
    "soduku_soln=np.array(lis)\n",
    "lis1=[[0, 0, 4, 3, 0, 0, 2, 0, 9],\n",
    "       [0, 0, 5, 0, 0, 9, 0, 0, 1],\n",
    "       [0, 7, 0, 0, 6, 0, 0, 4, 3],\n",
    "       [0, 0, 6, 0, 0, 2, 0, 8, 7],\n",
    "       [1, 9, 0, 0, 0, 7, 4, 0, 0],\n",
    "       [0, 5, 0, 0, 8, 3, 0, 0, 0],\n",
    "       [6, 0, 0, 0, 0, 0, 1, 0, 5],\n",
    "       [0, 0, 3, 5, 0, 8, 6, 9, 0],\n",
    "       [0, 4, 2, 9, 1, 0, 3, 0, 0]]\n",
    "soduku_game=np.array(lis1)\n",
    "game_and_solution=np.array([soduku_game, soduku_soln])\n",
    "game_and_solution\n",
    "type(game_and_solution)"
   ]
  },
  {
   "cell_type": "markdown",
   "id": "ae1ae4e5",
   "metadata": {},
   "source": [
    "### Flattening and reshaping"
   ]
  },
  {
   "cell_type": "code",
   "execution_count": 2,
   "id": "f234dfbd",
   "metadata": {},
   "outputs": [
    {
     "data": {
      "text/plain": [
       "array([[0, 0, 4, 3, 0, 0, 2, 0, 9],\n",
       "       [0, 0, 5, 0, 0, 9, 0, 0, 1],\n",
       "       [0, 7, 0, 0, 6, 0, 0, 4, 3],\n",
       "       [0, 0, 6, 0, 0, 2, 0, 8, 7],\n",
       "       [1, 9, 0, 0, 0, 7, 4, 0, 0],\n",
       "       [0, 5, 0, 0, 8, 3, 0, 0, 0],\n",
       "       [6, 0, 0, 0, 0, 0, 1, 0, 5],\n",
       "       [0, 0, 3, 5, 0, 8, 6, 9, 0],\n",
       "       [0, 4, 2, 9, 1, 0, 3, 0, 0]])"
      ]
     },
     "execution_count": 2,
     "metadata": {},
     "output_type": "execute_result"
    }
   ],
   "source": [
    "flattened_game=soduku_game.flatten()\n",
    "flattened_game.shape\n",
    "reshaped_game = flattened_game.reshape((9,9))\n",
    "reshaped_game\n",
    "soduku_game"
   ]
  },
  {
   "cell_type": "markdown",
   "id": "b45847a7",
   "metadata": {},
   "source": [
    "### Numpy dtypes"
   ]
  },
  {
   "cell_type": "code",
   "execution_count": 3,
   "id": "c610cd9d",
   "metadata": {},
   "outputs": [
    {
     "data": {
      "text/plain": [
       "dtype('int8')"
      ]
     },
     "execution_count": 3,
     "metadata": {},
     "output_type": "execute_result"
    }
   ],
   "source": [
    "zero_array=np.zeros((3,2))\n",
    "zero_array.dtype\n",
    "zero_int_array=np.zeros((3,2),dtype=np.int32)\n",
    "zero_int_array.dtype\n",
    "soduku_game=np.array(lis1)\n",
    "soduku_game.dtype\n",
    "small_sudoku_game=soduku_game.astype(np.int8)\n",
    "small_sudoku_game.dtype"
   ]
  },
  {
   "cell_type": "markdown",
   "id": "7865040d",
   "metadata": {},
   "source": [
    "### Indexing and slicing arrays"
   ]
  },
  {
   "cell_type": "code",
   "execution_count": 4,
   "id": "494b38c2",
   "metadata": {},
   "outputs": [],
   "source": [
    "tree_census=np.load(r\"C:\\Users\\Aron\\Downloads\\tree_census.npy\")\n",
    "tree_census\n",
    "block_ids=tree_census[:,1]\n",
    "block_ids[0:5]\n",
    "tenth_block_id=tree_census[9]\n",
    "block_id_slice = block_ids[9:14]"
   ]
  },
  {
   "cell_type": "code",
   "execution_count": 5,
   "id": "be96fedc",
   "metadata": {},
   "outputs": [
    {
     "data": {
      "text/plain": [
       "array([ 5,  5, 51,  4,  3,  6,  3,  3,  3,  6,  5,  5,  4,  7,  6,  4,  5,\n",
       "        5,  3,  3,  6,  8,  4,  4,  4,  6], dtype=int64)"
      ]
     },
     "execution_count": 5,
     "metadata": {},
     "output_type": "execute_result"
    }
   ],
   "source": [
    "tree_census\n",
    "hundred_diameters=hundred_diameters = tree_census[0:100,2]\n",
    "every_other_diameter=tree_census[50:101:2,2]\n",
    "every_other_diameter"
   ]
  },
  {
   "cell_type": "code",
   "execution_count": 6,
   "id": "74262032",
   "metadata": {},
   "outputs": [
    {
     "data": {
      "text/plain": [
       "array([ 0,  0,  0,  0,  0,  0,  0,  0,  0,  0,  0,  0,  0,  0,  0,  0,  0,\n",
       "        0,  0,  0,  0,  0,  0,  0,  0,  0,  0,  0,  0,  0,  0,  0,  0,  0,\n",
       "        0,  0,  1,  1,  1,  1,  1,  1,  2,  2,  2,  2,  2,  2,  2,  2,  2,\n",
       "        2,  2,  2,  2,  2,  2,  2,  2,  2,  2,  2,  2,  2,  2,  2,  2,  2,\n",
       "        2,  2,  2,  2,  2,  2,  2,  2,  2,  2,  2,  2,  2,  2,  2,  2,  2,\n",
       "        2,  2,  2,  2,  2,  2,  2,  2,  2,  2,  2,  2,  2,  2,  2,  2,  2,\n",
       "        2,  2,  3,  3,  3,  3,  3,  3,  3,  3,  3,  3,  3,  3,  3,  3,  3,\n",
       "        3,  3,  3,  3,  3,  3,  3,  3,  3,  3,  3,  3,  3,  3,  3,  3,  3,\n",
       "        3,  3,  3,  3,  3,  3,  3,  3,  3,  3,  3,  3,  3,  3,  3,  3,  3,\n",
       "        3,  3,  3,  3,  3,  3,  3,  3,  3,  3,  3,  3,  3,  3,  3,  3,  3,\n",
       "        3,  3,  3,  3,  3,  3,  3,  3,  3,  3,  3,  3,  3,  3,  3,  3,  3,\n",
       "        3,  4,  4,  4,  4,  4,  4,  4,  4,  4,  4,  4,  4,  4,  4,  4,  4,\n",
       "        4,  4,  4,  4,  4,  4,  4,  4,  4,  4,  4,  4,  4,  4,  4,  4,  4,\n",
       "        4,  4,  4,  4,  4,  4,  4,  4,  4,  4,  4,  4,  4,  4,  4,  4,  4,\n",
       "        4,  4,  4,  4,  4,  4,  4,  4,  4,  4,  4,  4,  4,  4,  4,  4,  4,\n",
       "        4,  4,  4,  4,  4,  4,  4,  4,  4,  4,  4,  4,  4,  4,  4,  4,  4,\n",
       "        4,  4,  4,  4,  4,  4,  4,  4,  4,  4,  4,  4,  4,  4,  4,  4,  4,\n",
       "        4,  4,  4,  4,  4,  4,  4,  5,  5,  5,  5,  5,  5,  5,  5,  5,  5,\n",
       "        5,  5,  5,  5,  5,  5,  5,  5,  5,  5,  5,  5,  5,  5,  5,  5,  5,\n",
       "        5,  5,  5,  5,  5,  5,  5,  5,  5,  5,  5,  5,  5,  5,  5,  5,  5,\n",
       "        5,  5,  5,  5,  5,  5,  5,  5,  5,  5,  5,  5,  5,  5,  5,  5,  5,\n",
       "        5,  5,  5,  5,  5,  5,  5,  5,  5,  5,  5,  5,  5,  6,  6,  6,  6,\n",
       "        6,  6,  6,  6,  6,  6,  6,  6,  6,  6,  6,  6,  6,  6,  6,  6,  6,\n",
       "        6,  6,  6,  6,  6,  6,  6,  6,  6,  6,  6,  6,  6,  6,  6,  6,  6,\n",
       "        6,  6,  6,  6,  6,  6,  6,  6,  6,  6,  6,  6,  6,  6,  6,  6,  6,\n",
       "        7,  7,  7,  7,  7,  7,  7,  7,  7,  7,  7,  7,  7,  7,  7,  7,  7,\n",
       "        7,  7,  7,  7,  7,  7,  7,  7,  7,  7,  7,  7,  7,  7,  7,  7,  7,\n",
       "        7,  7,  7,  7,  7,  7,  7,  7,  7,  7,  7,  7,  7,  7,  7,  7,  7,\n",
       "        8,  8,  8,  8,  8,  8,  8,  8,  8,  8,  8,  8,  8,  8,  8,  8,  8,\n",
       "        8,  8,  8,  8,  8,  8,  8,  8,  8,  8,  8,  8,  8,  8,  8,  8,  8,\n",
       "        8,  8,  9,  9,  9,  9,  9,  9,  9,  9,  9,  9,  9,  9,  9,  9,  9,\n",
       "        9,  9,  9,  9,  9,  9,  9,  9,  9,  9,  9,  9,  9,  9,  9,  9,  9,\n",
       "        9,  9,  9,  9,  9,  9,  9,  9,  9, 10, 10, 10, 10, 10, 10, 10, 10,\n",
       "       10, 10, 10, 10, 10, 10, 10, 10, 10, 10, 10, 10, 10, 10, 10, 10, 10,\n",
       "       10, 10, 10, 10, 10, 11, 11, 11, 11, 11, 11, 11, 11, 11, 11, 11, 11,\n",
       "       11, 11, 11, 11, 11, 11, 11, 11, 11, 11, 11, 11, 11, 11, 11, 11, 11,\n",
       "       11, 11, 11, 11, 11, 11, 11, 11, 11, 11, 11, 11, 11, 11, 11, 11, 11,\n",
       "       11, 11, 11, 11, 11, 11, 11, 11, 11, 11, 12, 12, 12, 12, 12, 12, 12,\n",
       "       12, 12, 12, 12, 12, 12, 12, 12, 12, 12, 12, 12, 12, 12, 12, 12, 12,\n",
       "       12, 12, 12, 12, 12, 12, 12, 12, 12, 12, 12, 12, 12, 12, 12, 12, 12,\n",
       "       12, 12, 13, 13, 13, 13, 13, 13, 13, 13, 13, 13, 13, 13, 13, 13, 13,\n",
       "       13, 13, 13, 13, 13, 13, 13, 13, 13, 13, 13, 13, 13, 13, 13, 13, 13,\n",
       "       13, 13, 13, 13, 14, 14, 14, 14, 14, 14, 14, 14, 14, 14, 14, 14, 14,\n",
       "       14, 14, 14, 14, 14, 14, 14, 14, 14, 14, 14, 14, 14, 14, 14, 14, 14,\n",
       "       14, 14, 14, 14, 14, 14, 15, 15, 15, 15, 15, 15, 15, 15, 15, 15, 15,\n",
       "       15, 15, 15, 15, 15, 15, 15, 15, 15, 15, 15, 15, 15, 15, 15, 15, 15,\n",
       "       15, 15, 15, 15, 15, 15, 15, 16, 16, 16, 16, 16, 16, 16, 16, 16, 16,\n",
       "       16, 16, 16, 16, 16, 16, 16, 16, 16, 17, 17, 17, 17, 17, 17, 17, 17,\n",
       "       17, 17, 17, 17, 17, 17, 17, 17, 17, 17, 17, 17, 17, 17, 17, 17, 17,\n",
       "       17, 17, 17, 17, 18, 18, 18, 18, 18, 18, 18, 18, 18, 18, 18, 18, 18,\n",
       "       18, 18, 18, 18, 18, 18, 18, 18, 18, 18, 18, 18, 18, 18, 19, 19, 19,\n",
       "       19, 19, 19, 19, 19, 19, 19, 19, 19, 19, 19, 19, 19, 19, 19, 19, 19,\n",
       "       19, 19, 19, 19, 19, 19, 19, 20, 20, 20, 20, 20, 20, 20, 20, 20, 20,\n",
       "       20, 20, 20, 20, 20, 20, 20, 20, 20, 20, 20, 20, 20, 21, 21, 21, 21,\n",
       "       21, 21, 21, 21, 21, 21, 21, 21, 21, 21, 21, 21, 21, 21, 21, 22, 22,\n",
       "       22, 22, 22, 22, 22, 22, 22, 22, 22, 22, 22, 22, 22, 22, 22, 23, 23,\n",
       "       23, 23, 23, 23, 23, 23, 23, 23, 23, 24, 24, 24, 24, 24, 24, 24, 24,\n",
       "       25, 25, 25, 25, 25, 25, 25, 25, 25, 25, 25, 26, 26, 26, 26, 26, 26,\n",
       "       27, 27, 27, 28, 28, 28, 30, 30, 33, 34, 38, 39, 44, 51],\n",
       "      dtype=int64)"
      ]
     },
     "execution_count": 6,
     "metadata": {},
     "output_type": "execute_result"
    }
   ],
   "source": [
    "sorted_trunk_diameters=np.sort(tree_census[:,2])\n",
    "sorted_trunk_diameters"
   ]
  },
  {
   "cell_type": "markdown",
   "id": "949c4290",
   "metadata": {},
   "source": [
    "### Filtering with numPy"
   ]
  },
  {
   "cell_type": "code",
   "execution_count": 7,
   "id": "2ee1ea11",
   "metadata": {},
   "outputs": [
    {
     "data": {
      "text/plain": [
       "array([[  1115, 313879,      3,      0],\n",
       "       [  1116, 313879,     17,      0]], dtype=int64)"
      ]
     },
     "execution_count": 7,
     "metadata": {},
     "output_type": "execute_result"
    }
   ],
   "source": [
    "largest_tree_data=tree_census[tree_census[:,2]==51]\n",
    "largest_tree_data\n",
    "largest_tree_block_id=largest_tree_data[:,1]\n",
    "largest_tree_block_id\n",
    "trees_on_largest_tree_block = tree_census[tree_census[:,1] == largest_tree_block_id]\n",
    "block_313879=tree_census[tree_census[:,1]==313879]\n",
    "row_indices = np.where(tree_census[:, 1] == 313879)\n",
    "row_indices\n",
    "block_313879=tree_census[row_indices]\n",
    "block_313879\n",
    "\n"
   ]
  },
  {
   "cell_type": "code",
   "execution_count": null,
   "id": "4570e19f",
   "metadata": {},
   "outputs": [],
   "source": []
  },
  {
   "cell_type": "code",
   "execution_count": null,
   "id": "ae2e5110",
   "metadata": {},
   "outputs": [],
   "source": []
  },
  {
   "cell_type": "code",
   "execution_count": null,
   "id": "615b455e",
   "metadata": {},
   "outputs": [],
   "source": []
  }
 ],
 "metadata": {
  "kernelspec": {
   "display_name": "Python 3 (ipykernel)",
   "language": "python",
   "name": "python3"
  },
  "language_info": {
   "codemirror_mode": {
    "name": "ipython",
    "version": 3
   },
   "file_extension": ".py",
   "mimetype": "text/x-python",
   "name": "python",
   "nbconvert_exporter": "python",
   "pygments_lexer": "ipython3",
   "version": "3.9.12"
  }
 },
 "nbformat": 4,
 "nbformat_minor": 5
}
